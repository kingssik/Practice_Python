{
 "cells": [
  {
   "cell_type": "code",
   "execution_count": 12,
   "metadata": {},
   "outputs": [
    {
     "name": "stdout",
     "output_type": "stream",
     "text": [
      "<Response [200]>\n",
      "<a href=\"#shopcast\"><span>쇼핑캐스트 바로가기</span></a>\n",
      "쇼핑캐스트 바로가기\n",
      "#shopcast\n"
     ]
    }
   ],
   "source": [
    "import requests as req # 웹페이지 요청 및 응답데이터 수신 가능\n",
    "from bs4 import BeautifulSoup # HTML 해석기\n",
    "\n",
    "resp = req.get('https://www.naver.com/') # 특정 사이트에 페이지 요청 및 응답데이터 반환\n",
    "print(resp) # <Response [200]> : 연결성공\n",
    "resp.text # 가져온 사이트의 html 읽어옴\n",
    "soup = BeautifulSoup(resp.text, 'html.parser') # soup을 이용해서 html 파싱(parsing)\n",
    "\n",
    "alist = soup.select('a') # 선택자를 이용해 a태그를 선택하고 결과를 리스트로 반환\n",
    "tlist = soup.select('title') # 선택자를 이용해 title태그를 선택하고 결과를 리스트로 반환\n",
    "# print(alist)\n",
    "\n",
    "print(alist[3])\n",
    "print(alist[3].text) # 텍스트 가져오기\n",
    "# <tag_name attribute_name=\"attribute_value\">\n",
    "print(alist[3][\"href\"]) # 속성값 가져오기   "
   ]
  }
 ],
 "metadata": {
  "kernelspec": {
   "display_name": "Python 3.10.7 64-bit",
   "language": "python",
   "name": "python3"
  },
  "language_info": {
   "codemirror_mode": {
    "name": "ipython",
    "version": 3
   },
   "file_extension": ".py",
   "mimetype": "text/x-python",
   "name": "python",
   "nbconvert_exporter": "python",
   "pygments_lexer": "ipython3",
   "version": "3.10.7"
  },
  "orig_nbformat": 4,
  "vscode": {
   "interpreter": {
    "hash": "fb4569285eef3a3450cb62085a5b1e0da4bce0af555edc33dcf29baf3acc1368"
   }
  }
 },
 "nbformat": 4,
 "nbformat_minor": 2
}
